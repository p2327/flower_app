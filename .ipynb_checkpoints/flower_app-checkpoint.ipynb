{
 "cells": [
  {
   "cell_type": "markdown",
   "metadata": {},
   "source": [
    "### Iris flower classifier: Tensorflow tutorial\n",
    "---"
   ]
  },
  {
   "cell_type": "code",
   "execution_count": 1,
   "metadata": {},
   "outputs": [
    {
     "name": "stdout",
     "output_type": "stream",
     "text": [
      "TensorFlow version: 2.0.0\n",
      "Eager execution: True\n"
     ]
    }
   ],
   "source": [
    "from __future__ import (absolute_import, division, print_function,\n",
    "                        unicode_literals)\n",
    "\n",
    "#from utils import pack_features_vector, loss, grad\n",
    "\n",
    "import os\n",
    "import matplotlib.pyplot as plt\n",
    "import tensorflow as tf\n",
    "\n",
    "import streamlit as st\n",
    "import pandas as pd\n",
    "\n",
    "print(f\"TensorFlow version: {tf.__version__}\\n\\\n",
    "Eager execution: {tf.executing_eagerly()}\")"
   ]
  },
  {
   "cell_type": "code",
   "execution_count": 2,
   "metadata": {},
   "outputs": [],
   "source": [
    "# Helper functions\n",
    "def pack_features_vector(features, labels):\n",
    "    \"\"\"\n",
    "    Pack the features into a single array.\n",
    "    Takes values from a list of tensors and creates\n",
    "    combined tensor at the specified dimension.\n",
    "    \"\"\"\n",
    "    features = tf.stack(list(features.values()), axis=1)\n",
    "    return features, labels\n",
    "\n",
    "\n",
    "def loss(model, x, y):\n",
    "    loss_object = tf.keras.losses.SparseCategoricalCrossentropy(\n",
    "        from_logits=True)\n",
    "    # predictions\n",
    "    y_ = model(x)\n",
    "    # return cross-entropy (actual and predicted)\n",
    "    return loss_object(y_true=y, y_pred=y_)\n",
    "\n",
    "\n",
    "def grad(model, inputs, targets):\n",
    "    with tf.GradientTape() as tape:\n",
    "        # internal call to loss\n",
    "        loss_value = loss(model, inputs, targets)\n",
    "    # returns loss and gradients\n",
    "    return loss_value, tape.gradient(loss_value, model.trainable_variables)\n"
   ]
  },
  {
   "cell_type": "markdown",
   "metadata": {},
   "source": [
    "The Iris genus entails about 300 species,\n",
    "but our program will only classify the following three:\n",
    " - *Iris setosa*\n",
    " - *Iris virginica*\n",
    " - *Iris versicolor*  \n",
    "\n",
    "Load train and test set and look at the first rows of data with pandas:\n",
    "\n",
    "```python\n",
    "train_dataset_url = \"https://storage.googleapis.com/download.tensorflow.org/data/iris_training.csv\"\n",
    "test_url = \"https://storage.googleapis.com/download.tensorflow.org/data/iris_test.csv\"\n",
    "\n",
    "train_dataset_fp = tf.keras.utils.get_file(\n",
    "    fname=os.path.basename(train_dataset_url),\n",
    "    origin=train_dataset_url\n",
    "    )\n",
    "test_fp = tf.keras.utils.get_file(\n",
    "    fname=os.path.basename(test_url),\n",
    "    origin=test_url\n",
    "    )\n",
    "\n",
    "column_names = ['sepal_length',\n",
    "                'sepal_width',\n",
    "                'petal_length',\n",
    "                'petal_width',\n",
    "                'species']\n",
    "\n",
    "train_df = pd.read_csv(train_dataset_fp,\n",
    "                       names=column_names,\n",
    "                       header=0)\n",
    "train_df.head()\n",
    "```"
   ]
  },
  {
   "cell_type": "code",
   "execution_count": 3,
   "metadata": {},
   "outputs": [],
   "source": [
    "train_dataset_url = \"https://storage.googleapis.com/download.tensorflow.org/data/iris_training.csv\"\n",
    "test_url = \"https://storage.googleapis.com/download.tensorflow.org/data/iris_test.csv\"\n",
    "\n",
    "# Define filepaths for train and test set\n",
    "train_dataset_fp = tf.keras.utils.get_file(\n",
    "    fname=os.path.basename(train_dataset_url),\n",
    "    origin=train_dataset_url\n",
    "    )\n",
    "\n",
    "test_fp = tf.keras.utils.get_file(\n",
    "    fname=os.path.basename(test_url),\n",
    "    origin=test_url\n",
    "    )"
   ]
  },
  {
   "cell_type": "code",
   "execution_count": 4,
   "metadata": {},
   "outputs": [
    {
     "name": "stdout",
     "output_type": "stream",
     "text": [
      "120,4,setosa,versicolor,virginica\n",
      "6.4,2.8,5.6,2.2,2\n",
      "5.0,2.3,3.3,1.0,1\n",
      "4.9,2.5,4.5,1.7,2\n",
      "4.9,3.1,1.5,0.1,0\n"
     ]
    }
   ],
   "source": [
    "# Look at the first 5 lines of the dataset\n",
    "with open(train_dataset_fp) as f:\n",
    "    for x in range(5):\n",
    "        head = next(f).strip()\n",
    "        print(head)"
   ]
  },
  {
   "cell_type": "code",
   "execution_count": 5,
   "metadata": {},
   "outputs": [
    {
     "data": {
      "text/html": [
       "<div>\n",
       "<style scoped>\n",
       "    .dataframe tbody tr th:only-of-type {\n",
       "        vertical-align: middle;\n",
       "    }\n",
       "\n",
       "    .dataframe tbody tr th {\n",
       "        vertical-align: top;\n",
       "    }\n",
       "\n",
       "    .dataframe thead th {\n",
       "        text-align: right;\n",
       "    }\n",
       "</style>\n",
       "<table border=\"1\" class=\"dataframe\">\n",
       "  <thead>\n",
       "    <tr style=\"text-align: right;\">\n",
       "      <th></th>\n",
       "      <th>sepal_length</th>\n",
       "      <th>sepal_width</th>\n",
       "      <th>petal_length</th>\n",
       "      <th>petal_width</th>\n",
       "      <th>species</th>\n",
       "    </tr>\n",
       "  </thead>\n",
       "  <tbody>\n",
       "    <tr>\n",
       "      <td>0</td>\n",
       "      <td>6.4</td>\n",
       "      <td>2.8</td>\n",
       "      <td>5.6</td>\n",
       "      <td>2.2</td>\n",
       "      <td>2</td>\n",
       "    </tr>\n",
       "    <tr>\n",
       "      <td>1</td>\n",
       "      <td>5.0</td>\n",
       "      <td>2.3</td>\n",
       "      <td>3.3</td>\n",
       "      <td>1.0</td>\n",
       "      <td>1</td>\n",
       "    </tr>\n",
       "    <tr>\n",
       "      <td>2</td>\n",
       "      <td>4.9</td>\n",
       "      <td>2.5</td>\n",
       "      <td>4.5</td>\n",
       "      <td>1.7</td>\n",
       "      <td>2</td>\n",
       "    </tr>\n",
       "    <tr>\n",
       "      <td>3</td>\n",
       "      <td>4.9</td>\n",
       "      <td>3.1</td>\n",
       "      <td>1.5</td>\n",
       "      <td>0.1</td>\n",
       "      <td>0</td>\n",
       "    </tr>\n",
       "    <tr>\n",
       "      <td>4</td>\n",
       "      <td>5.7</td>\n",
       "      <td>3.8</td>\n",
       "      <td>1.7</td>\n",
       "      <td>0.3</td>\n",
       "      <td>0</td>\n",
       "    </tr>\n",
       "  </tbody>\n",
       "</table>\n",
       "</div>"
      ],
      "text/plain": [
       "   sepal_length  sepal_width  petal_length  petal_width  species\n",
       "0           6.4          2.8           5.6          2.2        2\n",
       "1           5.0          2.3           3.3          1.0        1\n",
       "2           4.9          2.5           4.5          1.7        2\n",
       "3           4.9          3.1           1.5          0.1        0\n",
       "4           5.7          3.8           1.7          0.3        0"
      ]
     },
     "execution_count": 5,
     "metadata": {},
     "output_type": "execute_result"
    }
   ],
   "source": [
    "# Columns order in the csv file\n",
    "column_names = ['sepal_length',\n",
    "                'sepal_width',\n",
    "                'petal_length',\n",
    "                'petal_width',\n",
    "                'species']\n",
    "\n",
    "# Load data in a Pandas DataFrame\n",
    "train_df = pd.read_csv(train_dataset_fp,\n",
    "                       names=column_names,\n",
    "                       header=0)\n",
    "\n",
    "train_df.head()"
   ]
  },
  {
   "cell_type": "markdown",
   "metadata": {},
   "source": [
    "Each label is associated with a string name (for example, *setosa*),\n",
    "but machine learning typically relies on numeric values\n",
    "(**0, 1, 2** in this case)"
   ]
  },
  {
   "cell_type": "code",
   "execution_count": 6,
   "metadata": {},
   "outputs": [],
   "source": [
    "class_names = ['Iris setosa', 'Iris versicolor', 'Iris virginica']\n",
    "\n",
    "# Number of examples in a 'batch' (one iteration of model training)\n",
    "batch_size = 32\n",
    "feature_names = column_names[:-1]\n",
    "label_name = column_names[-1]"
   ]
  },
  {
   "cell_type": "markdown",
   "metadata": {},
   "source": [
    "---\n",
    "### Prepare data for TensorFlow\n",
    "Calling ```make_csv_dataset``` to create a **tf.data.Dataset**.\n",
    "\n",
    "The ```make_csv_dataset``` function returns a **tf.data.Dataset** of (features, label) pairs, where ```features``` is a dictionary: ```{'feature_name': value}```"
   ]
  },
  {
   "cell_type": "code",
   "execution_count": 7,
   "metadata": {},
   "outputs": [
    {
     "name": "stdout",
     "output_type": "stream",
     "text": [
      "WARNING:tensorflow:From C:\\Users\\pietr\\Anaconda3\\lib\\site-packages\\tensorflow_core\\python\\data\\experimental\\ops\\readers.py:521: parallel_interleave (from tensorflow.python.data.experimental.ops.interleave_ops) is deprecated and will be removed in a future version.\n",
      "Instructions for updating:\n",
      "Use `tf.data.Dataset.interleave(map_func, cycle_length, block_length, num_parallel_calls=tf.data.experimental.AUTOTUNE)` instead. If sloppy execution is desired, use `tf.data.Options.experimental_determinstic`.\n"
     ]
    },
    {
     "name": "stderr",
     "output_type": "stream",
     "text": [
      "From C:\\Users\\pietr\\Anaconda3\\lib\\site-packages\\tensorflow_core\\python\\data\\experimental\\ops\\readers.py:521: parallel_interleave (from tensorflow.python.data.experimental.ops.interleave_ops) is deprecated and will be removed in a future version.\n",
      "Instructions for updating:\n",
      "Use `tf.data.Dataset.interleave(map_func, cycle_length, block_length, num_parallel_calls=tf.data.experimental.AUTOTUNE)` instead. If sloppy execution is desired, use `tf.data.Options.experimental_determinstic`.\n"
     ]
    }
   ],
   "source": [
    "train_dataset = tf.data.experimental.make_csv_dataset(\n",
    "    train_dataset_fp,\n",
    "    batch_size,\n",
    "    column_names=column_names,\n",
    "    label_name=label_name,\n",
    "    num_epochs=1\n",
    "    )"
   ]
  },
  {
   "cell_type": "markdown",
   "metadata": {},
   "source": [
    "```Dataset``` objects are iterable.\n",
    "Like-features are grouped together or *batched* and each example row fields are appended to the corresponding feature array.  \n",
    "Changing ```batch_size``` in ```make_csv_dataset``` sets the number of examples stored in these feature arrays."
   ]
  },
  {
   "cell_type": "code",
   "execution_count": 8,
   "metadata": {},
   "outputs": [
    {
     "data": {
      "text/plain": [
       "OrderedDict([('sepal_length',\n",
       "              <tf.Tensor: id=68, shape=(32,), dtype=float32, numpy=\n",
       "              array([4.4, 7.7, 5.1, 5. , 6. , 6.9, 6.5, 6. , 5.3, 7.6, 6.5, 6.1, 6.1,\n",
       "                     6.7, 6.6, 6.7, 7.2, 5. , 4.4, 6.4, 5.8, 4.9, 4.6, 6.5, 6.7, 5.5,\n",
       "                     6.2, 5.8, 6.3, 6.3, 6.2, 5.8], dtype=float32)>),\n",
       "             ('sepal_width',\n",
       "              <tf.Tensor: id=69, shape=(32,), dtype=float32, numpy=\n",
       "              array([2.9, 2.8, 3.8, 2. , 3. , 3.1, 3. , 2.7, 3.7, 3. , 3.2, 2.6, 2.8,\n",
       "                     3.3, 3. , 3. , 3. , 3.4, 3.2, 3.1, 2.7, 3.1, 3.6, 2.8, 3.1, 2.4,\n",
       "                     2.2, 4. , 3.3, 3.4, 2.8, 2.7], dtype=float32)>),\n",
       "             ('petal_length',\n",
       "              <tf.Tensor: id=66, shape=(32,), dtype=float32, numpy=\n",
       "              array([1.4, 6.7, 1.6, 3.5, 4.8, 5.1, 5.8, 5.1, 1.5, 6.6, 5.1, 5.6, 4.7,\n",
       "                     5.7, 4.4, 5.2, 5.8, 1.6, 1.3, 5.5, 5.1, 1.5, 1. , 4.6, 4.4, 3.7,\n",
       "                     4.5, 1.2, 6. , 5.6, 4.8, 4.1], dtype=float32)>),\n",
       "             ('petal_width',\n",
       "              <tf.Tensor: id=67, shape=(32,), dtype=float32, numpy=\n",
       "              array([0.2, 2. , 0.2, 1. , 1.8, 2.3, 2.2, 1.6, 0.2, 2.1, 2. , 1.4, 1.2,\n",
       "                     2.1, 1.4, 2.3, 1.6, 0.4, 0.2, 1.8, 1.9, 0.1, 0.2, 1.5, 1.4, 1. ,\n",
       "                     1.5, 0.2, 2.5, 2.4, 1.8, 1. ], dtype=float32)>)])"
      ]
     },
     "execution_count": 8,
     "metadata": {},
     "output_type": "execute_result"
    }
   ],
   "source": [
    "# Look at the next item in the Dataset object\n",
    "features, labels = next(iter(train_dataset))\n",
    "features"
   ]
  },
  {
   "cell_type": "markdown",
   "metadata": {},
   "source": [
    "Explore data with a scatter plot. \n",
    "Some clusters are visible by plotting a few features from the batch."
   ]
  },
  {
   "cell_type": "code",
   "execution_count": 9,
   "metadata": {},
   "outputs": [
    {
     "data": {
      "image/png": "[encoded data removed]",
      "text/plain": [
       "<Figure size 432x288 with 1 Axes>"
      ]
     },
     "metadata": {
      "needs_background": "light"
     },
     "output_type": "display_data"
    }
   ],
   "source": [
    "plt.scatter(features['petal_length'],\n",
    "            features['sepal_length'],\n",
    "            c=labels,\n",
    "            cmap='viridis')\n",
    "\n",
    "plt.xlabel(\"Petal length\")\n",
    "plt.ylabel(\"Sepal length\")\n",
    "plt.show()"
   ]
  },
  {
   "cell_type": "markdown",
   "metadata": {},
   "source": [
    "Pack the features in a single arrays with shape ```(batch_size, num_features)``` using ```pack_features_vector``` helper function, then use ```tf.data.Dataset.map``` to pack the features of each\n",
    "```(features, label)```pair into the training dataset\n",
    "(it applies the function to each pair).\n",
    "\n",
    "The features element of the ```Dataset``` are now arrays with shape\n",
    "```(batch_size, num_features)```."
   ]
  },
  {
   "cell_type": "code",
   "execution_count": 10,
   "metadata": {},
   "outputs": [],
   "source": [
    "train_dataset = train_dataset.map(pack_features_vector)\n",
    "\n",
    "features, labels = next(iter(train_dataset))"
   ]
  },
  {
   "cell_type": "code",
   "execution_count": 11,
   "metadata": {},
   "outputs": [
    {
     "name": "stdout",
     "output_type": "stream",
     "text": [
      "tf.Tensor(\n",
      "[[5.1 3.8 1.5 0.3]\n",
      " [6.4 2.8 5.6 2.2]\n",
      " [5.8 4.  1.2 0.2]\n",
      " [6.4 3.2 4.5 1.5]\n",
      " [6.9 3.1 5.1 2.3]], shape=(5, 4), dtype=float32)\n"
     ]
    }
   ],
   "source": [
    "# let's look at the first 5 examples (i.e. samples)\n",
    "print(features[:5])"
   ]
  },
  {
   "cell_type": "code",
   "execution_count": 12,
   "metadata": {},
   "outputs": [
    {
     "name": "stdout",
     "output_type": "stream",
     "text": [
      "tf.Tensor([0 2 0 1 2], shape=(5,), dtype=int32)\n"
     ]
    }
   ],
   "source": [
    "# The target labels for each example in the batch\n",
    "print(labels[:5])"
   ]
  },
  {
   "cell_type": "markdown",
   "metadata": {},
   "source": [
    "---\n",
    "### Select the model\n",
    "\n",
    "A model is a relationship between the features and the label.\n",
    "\n",
    "We'll use a neural network to solve the Iris classification problem.   \n",
    "Neural networks can find complex relationships between features and the label. \n",
    "\n",
    "It is a highly-structured graph, organized into one or more hidden layers. \n",
    "Each hidden layer consists of one or more neurons. \n",
    "There are several categories of neural networks and this program uses a dense, \n",
    "or fully-connected neural network: the neurons in one layer receive\n",
    "input connections from every neuron in the previous layer.  \n",
    "\n",
    "When the model from is trained and fed an unlabeled example, \n",
    "it yields three predictions: the likelihood that this flower is \n",
    "the given Iris species. This prediction is called **inference**.\n",
    "\n",
    "<img src='https://www.tensorflow.org/images/custom_estimators/full_network.png'>"
   ]
  },
  {
   "cell_type": "markdown",
   "metadata": {},
   "source": [
    "---\n",
    "### Create a model using Keras\n",
    "\n",
    "The ```tf.keras.Sequential``` model is a linear stack of layers.  \n",
    "Its constructor takes a list of layer instances, in this case, two Dense layers with 10 nodes each,\n",
    "and an output layer with 3 nodes representing our label predictions.  \n",
    "\n",
    "The first layer's ```input_shape``` parameter corresponds to the number of features from the dataset, \n",
    "and is required."
   ]
  },
  {
   "cell_type": "code",
   "execution_count": 13,
   "metadata": {},
   "outputs": [],
   "source": [
    "model = tf.keras.Sequential([\n",
    "  # Input shape required\n",
    "  tf.keras.layers.Dense(10, activation=tf.nn.relu, input_shape=(4,)),  \n",
    "  tf.keras.layers.Dense(10, activation=tf.nn.relu),\n",
    "  tf.keras.layers.Dense(3)\n",
    "])"
   ]
  },
  {
   "cell_type": "markdown",
   "metadata": {},
   "source": [
    "The activation function determines the output shape of each node in the layer. \n",
    "The ideal number of hidden layers and neurons depends on the problem and the dataset.\n",
    "> **Rule of thumb**. Increasing the number of hidden layers and neurons creates a more powerful model, \n",
    "> which requires more data to train effectively."
   ]
  },
  {
   "cell_type": "markdown",
   "metadata": {},
   "source": [
    "#### Using the model\n",
    "Passing ```features``` in the model calculates predictions for each\n",
    "example in the batch (in our case we have 32 examples per batch).  \n",
    "For each example we obtain a logit for each class in the target label."
   ]
  },
  {
   "cell_type": "code",
   "execution_count": 14,
   "metadata": {},
   "outputs": [
    {
     "data": {
      "text/plain": [
       "<tf.Tensor: id=235, shape=(3, 3), dtype=float32, numpy=\n",
       "array([[-0.703539  , -0.73948693,  0.28024557],\n",
       "       [-1.4354072 , -1.03618   ,  1.1835942 ],\n",
       "       [-0.70738   , -0.6888614 ,  0.23186076]], dtype=float32)>"
      ]
     },
     "execution_count": 14,
     "metadata": {},
     "output_type": "execute_result"
    }
   ],
   "source": [
    "predictions = model(features)\n",
    "predictions[0:3]"
   ]
  },
  {
   "cell_type": "markdown",
   "metadata": {},
   "source": [
    "Using ```softmax``` converts the logit to the predicted probability of \n",
    "each example in the batch to be of one of the classes."
   ]
  },
  {
   "cell_type": "code",
   "execution_count": 15,
   "metadata": {},
   "outputs": [
    {
     "data": {
      "text/plain": [
       "<tf.Tensor: id=240, shape=(3, 3), dtype=float32, numpy=\n",
       "array([[0.2155521 , 0.20794109, 0.57650685],\n",
       "       [0.0616801 , 0.0919448 , 0.8463751 ],\n",
       "       [0.21849665, 0.22258058, 0.5589228 ]], dtype=float32)>"
      ]
     },
     "execution_count": 15,
     "metadata": {},
     "output_type": "execute_result"
    }
   ],
   "source": [
    "tf.nn.softmax(predictions[:3])"
   ]
  },
  {
   "cell_type": "markdown",
   "metadata": {},
   "source": [
    "Calling ```tf.argmax``` on ```predictions``` gives the predicted class index. As the model has not been trained yet, these won't be very good just now."
   ]
  },
  {
   "cell_type": "code",
   "execution_count": 16,
   "metadata": {},
   "outputs": [
    {
     "name": "stdout",
     "output_type": "stream",
     "text": [
      " Predictions: [2 2 2 2 2]\n",
      "Actual label: [0 2 0 1 2]\n"
     ]
    }
   ],
   "source": [
    "print(f\" Predictions: {tf.argmax(predictions, axis=1)[:5]}\")\n",
    "print(f\"Actual label: {labels[:5]}\")"
   ]
  },
  {
   "cell_type": "markdown",
   "metadata": {},
   "source": [
    "---\n",
    "### Train the model\n",
    "#### Define the loss and gradient function\n",
    "Both training and evaluation stages need to calculate the model's loss.\n",
    "This measures how off a model's predictions are from the desired label, or \n",
    "in other words, how bad the model is performing.\n",
    "We want to minimize, or optimize, this value. \n",
    "\n",
    "Our model will calculate its loss using ```tf.keras.losses.SparseCategoricalCrossentropy```\n",
    "which takes the model's class probability predictions and the desired label, and returns the average loss across the examples.\n",
    "\n",
    "```python\n",
    "def loss(model, x, y):\n",
    "    loss_object = tf.keras.losses.SparseCategoricalCrossentropy(\n",
    "        from_logits=True)\n",
    "    # predictions\n",
    "    y_ = model(x)\n",
    "    # return cross-entropy (actual and predicted)\n",
    "    return loss_object(y_true=y, y_pred=y_)\n",
    "```"
   ]
  },
  {
   "cell_type": "code",
   "execution_count": 17,
   "metadata": {},
   "outputs": [
    {
     "name": "stdout",
     "output_type": "stream",
     "text": [
      "Loss test: 1.09\n"
     ]
    }
   ],
   "source": [
    "# Using the loss helper function\n",
    "crossentropy_loss = loss(model, features, labels)\n",
    "print(f\"Loss test: {crossentropy_loss:.2f}\")"
   ]
  },
  {
   "cell_type": "markdown",
   "metadata": {},
   "source": [
    "```tf.GradientTape``` calculates gradients used to optimise the model.\n",
    "\n",
    "```python\n",
    "def grad(model, inputs, targets):\n",
    "    with tf.GradientTape() as tape:\n",
    "        # internal call to loss\n",
    "        loss_value = loss(model, inputs, targets)\n",
    "    # returns loss and gradients\n",
    "    return loss_value, tape.gradient(loss_value, model.trainable_variables)\n",
    "``` "
   ]
  },
  {
   "cell_type": "markdown",
   "metadata": {},
   "source": [
    "#### Create an optimiser\n",
    "\n",
    "An *optimizer* applies the computed gradients to the model's variables\n",
    "to minimize the ```loss``` function.\n",
    "\n",
    "> ##### Gradient descent.\n",
    "The loss function can be thinked of as a curved surface.\n",
    "We want to find its lowest point by walking around.\n",
    "\n",
    "TensorFlow ```tf.train.GradientDescentOptimizer```\n",
    "implements the stochastic gradient descent (SGD) algorithm.\n",
    "\n",
    "```python\n",
    "optimizer = tf.keras.optimizers.SGD(learning_rate=0.01)\n",
    "```\n",
    "\n",
    "The *hyperparameter* ```learning_rate``` sets the step size to take\n",
    "for each iteration down the hill.\n",
    "\n",
    "<img src='https://cs231n.github.io/assets/nn3/opt1.gif'>"
   ]
  },
  {
   "cell_type": "markdown",
   "metadata": {},
   "source": [
    "```grad``` calculates gradients and loss value.  By iteratively\n",
    "calculating the loss and gradient for each batch, we'll adjust the model\n",
    "during training.  \n",
    "Gradually, the model will find the best combination of weights and bias\n",
    "to minimize loss."
   ]
  },
  {
   "cell_type": "code",
   "execution_count": 18,
   "metadata": {},
   "outputs": [
    {
     "name": "stdout",
     "output_type": "stream",
     "text": [
      "Step: 0            \n",
      "Initial Loss: 1.0944557189941406\n",
      "Step:  1            \n",
      "Loss: 1.0570781230926514\n"
     ]
    }
   ],
   "source": [
    "optimizer = tf.keras.optimizers.SGD(learning_rate=0.01)\n",
    "loss_value, gradients = grad(model, features, labels)\n",
    "\n",
    "# Print the initial loss, no optimisation\n",
    "print(f\"Step: {optimizer.iterations.numpy()} \\\n",
    "           \\nInitial Loss: {loss_value.numpy()}\")\n",
    "\n",
    "\n",
    "# Calculate a single optimisation step\n",
    "optimizer.apply_gradients(zip(gradients, model.trainable_variables))\n",
    "print(f\"Step:  {optimizer.iterations.numpy()} \\\n",
    "           \\nLoss: {loss(model, features, labels).numpy()}\")"
   ]
  },
  {
   "cell_type": "markdown",
   "metadata": {},
   "source": [
    "#### Training loop\n",
    "The model is ready for training.  \n",
    "A *training loop* feeds the dataset examples into the ```model```\n",
    "to help it make better predictions.  \n",
    "\n",
    "The following code sets up these *training steps*:\n",
    "1. Iterate each **epoch**. An epoch is one pass through the dataset.\n",
    "2. Within an epoch, iterate over each example in the training ```Dataset```\n",
    "grabbing its ```features``` and (actual)```label```.\n",
    "3. Using the example features, make a prediction and compare it\n",
    "with the label. Measure the inaccuracy and use that to calculate the gradients\n",
    "(via ```grad``` internal call to ```loss```).\n",
    "4. Use an ```optimizer``` to update the model variables.\n",
    "5. Keep track of stats for later visualization.\n",
    "\n",
    "```num_epochs``` is the number of times to loop over the dataset.\n",
    "> Counter-intuitively, training a model longer does not\n",
    "guarantee a better model."
   ]
  },
  {
   "cell_type": "code",
   "execution_count": 19,
   "metadata": {},
   "outputs": [
    {
     "name": "stdout",
     "output_type": "stream",
     "text": [
      "Epoch: 000             Loss: 1.110             Accuracy: 35.000%\n",
      "Epoch: 050             Loss: 0.469             Accuracy: 88.333%\n",
      "Epoch: 100             Loss: 0.284             Accuracy: 95.000%\n",
      "Epoch: 150             Loss: 0.190             Accuracy: 95.833%\n",
      "Epoch: 200             Loss: 0.147             Accuracy: 97.500%\n"
     ]
    }
   ],
   "source": [
    "# Note: Rerunning this cell uses the same model variables\n",
    "# Keep results for plotting\n",
    "train_loss_results = []\n",
    "train_accuracy_results = []\n",
    "num_epochs = 201\n",
    "\n",
    "for epoch in range(num_epochs):\n",
    "    epoch_loss_avg = tf.keras.metrics.Mean()\n",
    "    epoch_accuracy = tf.keras.metrics.SparseCategoricalAccuracy()\n",
    "\n",
    "    # Training loop - using batches of 32\n",
    "    for x, y in train_dataset:\n",
    "        # Optimize the model\n",
    "        loss_value, grads = grad(model, x, y)\n",
    "        optimizer.apply_gradients(zip(grads, model.trainable_variables))\n",
    "\n",
    "        # Track progress\n",
    "        # for each batch\n",
    "        # Add current batch loss \n",
    "        epoch_loss_avg(loss_value)\n",
    "        # Compare predicted label to actual label\n",
    "        epoch_accuracy(y, model(x))\n",
    "\n",
    "    # At end epoch append average loss and epoch accuracy\n",
    "    train_loss_results.append(epoch_loss_avg.result())\n",
    "    train_accuracy_results.append(epoch_accuracy.result())\n",
    "\n",
    "    # Print results at set number of epochs\n",
    "    if epoch % 50 == 0:\n",
    "        print(f\"Epoch: {epoch:03d} \\\n",
    "            Loss: {epoch_loss_avg.result():.3f} \\\n",
    "            Accuracy: {epoch_accuracy.result():.3%}\")"
   ]
  },
  {
   "cell_type": "markdown",
   "metadata": {},
   "source": [
    "#### Visualise the loss function over time"
   ]
  },
  {
   "cell_type": "code",
   "execution_count": 21,
   "metadata": {},
   "outputs": [
    {
     "data": {
      "image/png": "[encoded data removed]",
      "text/plain": [
       "<Figure size 864x576 with 2 Axes>"
      ]
     },
     "metadata": {
      "needs_background": "light"
     },
     "output_type": "display_data"
    }
   ],
   "source": [
    "fig, axes = plt.subplots(2, sharex=True, figsize=(12, 8))\n",
    "fig.suptitle('Training Metrics')\n",
    "\n",
    "axes[0].set_ylabel(\"Loss\", fontsize=14)\n",
    "axes[0].plot(train_loss_results)\n",
    "\n",
    "axes[1].set_ylabel(\"Accuracy\", fontsize=14)\n",
    "axes[1].set_xlabel(\"Epoch\", fontsize=14)\n",
    "axes[1].plot(train_accuracy_results)\n",
    "plt.show()"
   ]
  },
  {
   "cell_type": "code",
   "execution_count": null,
   "metadata": {},
   "outputs": [],
   "source": []
  }
 ],
 "metadata": {
  "kernelspec": {
   "display_name": "Python 3",
   "language": "python",
   "name": "python3"
  },
  "language_info": {
   "codemirror_mode": {
    "name": "ipython",
    "version": 3
   },
   "file_extension": ".py",
   "mimetype": "text/x-python",
   "name": "python",
   "nbconvert_exporter": "python",
   "pygments_lexer": "ipython3",
   "version": "3.7.4"
  }
 },
 "nbformat": 4,
 "nbformat_minor": 4
}
